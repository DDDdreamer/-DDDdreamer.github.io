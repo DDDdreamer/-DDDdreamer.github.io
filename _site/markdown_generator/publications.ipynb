{
 "cells": [
  {
   "cell_type": "markdown",
   "metadata": {
    "deletable": true,
    "editable": true
   },
   "source": [
    "# Publications markdown generator for academicpages\n",
    "\n",
    "Takes a TSV of publications with metadata and converts them for use with [academicpages.github.io](academicpages.github.io). This is an interactive Jupyter notebook ([see more info here](http://jupyter-notebook-beginner-guide.readthedocs.io/en/latest/what_is_jupyter.html)). The core python code is also in `publications.py`. Run either from the `markdown_generator` folder after replacing `publications.tsv` with one containing your data.\n",
    "\n",
    "TODO: Make this work with BibTex and other databases of citations, rather than Stuart's non-standard TSV format and citation style.\n"
   ]
  },
  {
   "cell_type": "markdown",
   "metadata": {},
   "source": [
    "## Data format\n",
    "\n",
    "The TSV needs to have the following columns: pub_date, title, venue, excerpt, citation, site_url, and paper_url, with a header at the top. \n",
    "\n",
    "- `excerpt` and `paper_url` can be blank, but the others must have values. \n",
    "- `pub_date` must be formatted as YYYY-MM-DD.\n",
    "- `url_slug` will be the descriptive part of the .md file and the permalink URL for the page about the paper. The .md file will be `YYYY-MM-DD-[url_slug].md` and the permalink will be `https://[yourdomain]/publications/YYYY-MM-DD-[url_slug]`\n",
    "\n",
    "This is how the raw file looks (it doesn't look pretty, use a spreadsheet or other program to edit and create)."
   ]
  },
  {
   "cell_type": "code",
   "execution_count": 61,
   "metadata": {
    "collapsed": false
   },
   "outputs": [
    {
     "name": "stdout",
     "output_type": "stream",
     "text": [
      "pub_date\ttitle\tvenue\tcitation\turl_slug\tpaper_url\tcode_link\n",
      "2021-05-21\t2021_TPAMI_DSRL\tIEEE Transactions on Pattern Analysis and Machine Intelligence\tShiping Wang, Zhaoliang Chen, Shide Du, and Zhouchen Lin. Learning deep sparse regularizers with applications to multi-view clustering and semi-supervised classification[J]. IEEE Transactions on Pattern Analysis and Machine Intelligence, 2021, 44(9): 5042-5055.\tDSRL\thttps://ieeexplore.ieee.org/stamp/stamp.jsp?tp=&arnumber=9439159\thttps://github.com/chenzl23/DSRL\n",
      "2023-07-01\t2023_INF_LGCN-FF\tInformation Fusion\t\"Zhaoliang Chen, Lele Fu, Jie Yao, Wenzhong Guo, Claudia Plant, and Shiping Wang.\n",
      "Learnable graph convolutional network and feature fusion for multi-view learning,\n",
      "Information Fusion, 2023, 95: 109-119.\"\tLGCN-FF\thttps://www.sciencedirect.com/science/article/pii/S1566253523000532\thttps://github.com/chenzl23/LGCNFF\n",
      "2023-03-23\t2023_TMM_IMvGCN\tIEEE Transactions on Multimedia\tZhihao Wu, Xincan Lin, Zhenghong Lin, Zhaoliang Chen, Yang Bai,  and Shiping Wang. Interpretable Graph Convolutional Network for Multi-View Semi-Supervised Learning[J]. IEEE Transactions on Multimedia, 2023.\tIMvGCN\thttps://ieeexplore.ieee.org/stamp/stamp.jsp?tp=&arnumber=10080867\thttps://github.com/ZhihaoWu99/IMvGCN\n",
      "2023-01-11\t2023_AAAI_tsGCN\tAAAI 2023\tShiping Wang, Zhihao Wu, Yuhong Chen, and Yong Chen. Beyond graph convolutional network: An interpretable regularizer-centered optimization framework. AAAI 2023.\ttsGCN\thttps://scholar.google.com/citations?view_op=view_citation&hl=zh-CN&user=_Yhc9TwAAAAJ&sortby=pubdate&citation_for_view=_Yhc9TwAAAAJ:dQ2og3OwTAUC\thttps://github.com/ZhihaoWu99/tsGCN\n",
      "2023-06-26\t2023_AAAI_DLR-GAE\tAAAI 2023\tZhaoliang Chen, Zhihao Wu, Shiping Wang, and Wenzhong Guo. Dual low-rank graph autoencoder for semantic and topological networks[C]//Proceedings of the AAAI Conference on Artificial Intelligence. 2023, 37(4): 4191-4198.\tDLR-GAE\thttps://ojs.aaai.org/index.php/AAAI/article/download/25536/25308\thttps://github.com/chenzl23/DLRGAE\n",
      "2022-07-01\t2022_TIP_MSA-Net\tIEEE Transactions on Multimedia\tLinxin Zheng, Guobao Xiao, Ziwei Shi, Shiping Wang, and Jiayi Ma. MSA-Net: Establishing reliable correspondences by multiscale attention network[J]. IEEE Transactions on Image Processing, 2022, 31: 4598-4608.\tMSA-Net\thttps://guobaoxiao.github.io/papers/TIP2022b(1).pdf\thttps://github.com/guobaoxiao/MSANet\n",
      "2022-06-24\t2022_TMM_ULTLSE\tIEEE Transactions on Multimedia\tLele Fu, Zhaoliang Chen, Yongyong Chen, and Shiping Wang. Unified low-rank tensor learning and spectral embedding for multi-view subspace clustering[J]. IEEE Transactions on Multimedia, 2022.\tULTLSE\thttps://chenzl23.github.io/assets/pdf/ULTLSE-TMM2022.pdf\t\n",
      "2022-03-09\t2022_TMM_LMMF\tIEEE Transactions on Multimedia\tSheng Huang, Yunhe Zhang, Lele Fu, and Shiping Wang. Learnable multi-view matrix factorization with graph embedding and flexible loss[J]. IEEE Transactions on Multimedia, 2022.\tLMMF\thttps://ieeexplore.ieee.org/stamp/stamp.jsp?tp=&arnumber=9732240\t\n",
      "2022-03-01\t2022_PR_DCCA\tPattern Recognition\tJinyu Cai, Shiping Wang, Chaoyang Xu, and Wenzhong Guo. Unsupervised deep clustering via contractive feature representation and focal loss[J]. Pattern Recognition, 2022, 123: 108386.\tDCCA\thttps://www.sciencedirect.com/science/article/pii/S0031320321005665\t\n"
     ]
    }
   ],
   "source": [
    "!cat publications_v2.tsv"
   ]
  },
  {
   "cell_type": "markdown",
   "metadata": {},
   "source": [
    "## Import pandas\n",
    "\n",
    "We are using the very handy pandas library for dataframes."
   ]
  },
  {
   "cell_type": "code",
   "execution_count": 62,
   "metadata": {
    "collapsed": true,
    "deletable": true,
    "editable": true
   },
   "outputs": [],
   "source": [
    "import pandas as pd"
   ]
  },
  {
   "cell_type": "markdown",
   "metadata": {},
   "source": [
    "## Import TSV\n",
    "\n",
    "Pandas makes this easy with the read_csv function. We are using a TSV, so we specify the separator as a tab, or `\\t`.\n",
    "\n",
    "I found it important to put this data in a tab-separated values format, because there are a lot of commas in this kind of data and comma-separated values can get messed up. However, you can modify the import statement, as pandas also has read_excel(), read_json(), and others."
   ]
  },
  {
   "cell_type": "code",
   "execution_count": 63,
   "metadata": {
    "collapsed": false,
    "deletable": true,
    "editable": true
   },
   "outputs": [
    {
     "data": {
      "text/html": [
       "<div>\n",
       "<style scoped>\n",
       "    .dataframe tbody tr th:only-of-type {\n",
       "        vertical-align: middle;\n",
       "    }\n",
       "\n",
       "    .dataframe tbody tr th {\n",
       "        vertical-align: top;\n",
       "    }\n",
       "\n",
       "    .dataframe thead th {\n",
       "        text-align: right;\n",
       "    }\n",
       "</style>\n",
       "<table border=\"1\" class=\"dataframe\">\n",
       "  <thead>\n",
       "    <tr style=\"text-align: right;\">\n",
       "      <th></th>\n",
       "      <th>pub_date</th>\n",
       "      <th>title</th>\n",
       "      <th>venue</th>\n",
       "      <th>citation</th>\n",
       "      <th>url_slug</th>\n",
       "      <th>paper_url</th>\n",
       "      <th>code_link</th>\n",
       "    </tr>\n",
       "  </thead>\n",
       "  <tbody>\n",
       "    <tr>\n",
       "      <th>0</th>\n",
       "      <td>2021-05-21</td>\n",
       "      <td>2021_TPAMI_DSRL</td>\n",
       "      <td>IEEE Transactions on Pattern Analysis and Mach...</td>\n",
       "      <td>Shiping Wang, Zhaoliang Chen, Shide Du, and Zh...</td>\n",
       "      <td>DSRL</td>\n",
       "      <td>https://ieeexplore.ieee.org/stamp/stamp.jsp?tp...</td>\n",
       "      <td>https://github.com/chenzl23/DSRL</td>\n",
       "    </tr>\n",
       "    <tr>\n",
       "      <th>1</th>\n",
       "      <td>2023-07-01</td>\n",
       "      <td>2023_INF_LGCN-FF</td>\n",
       "      <td>Information Fusion</td>\n",
       "      <td>Zhaoliang Chen, Lele Fu, Jie Yao, Wenzhong Guo...</td>\n",
       "      <td>LGCN-FF</td>\n",
       "      <td>https://www.sciencedirect.com/science/article/...</td>\n",
       "      <td>https://github.com/chenzl23/LGCNFF</td>\n",
       "    </tr>\n",
       "    <tr>\n",
       "      <th>2</th>\n",
       "      <td>2023-03-23</td>\n",
       "      <td>2023_TMM_IMvGCN</td>\n",
       "      <td>IEEE Transactions on Multimedia</td>\n",
       "      <td>Zhihao Wu, Xincan Lin, Zhenghong Lin, Zhaolian...</td>\n",
       "      <td>IMvGCN</td>\n",
       "      <td>https://ieeexplore.ieee.org/stamp/stamp.jsp?tp...</td>\n",
       "      <td>https://github.com/ZhihaoWu99/IMvGCN</td>\n",
       "    </tr>\n",
       "    <tr>\n",
       "      <th>3</th>\n",
       "      <td>2023-01-11</td>\n",
       "      <td>2023_AAAI_tsGCN</td>\n",
       "      <td>AAAI 2023</td>\n",
       "      <td>Shiping Wang, Zhihao Wu, Yuhong Chen, and Yong...</td>\n",
       "      <td>tsGCN</td>\n",
       "      <td>https://scholar.google.com/citations?view_op=v...</td>\n",
       "      <td>https://github.com/ZhihaoWu99/tsGCN</td>\n",
       "    </tr>\n",
       "    <tr>\n",
       "      <th>4</th>\n",
       "      <td>2023-06-26</td>\n",
       "      <td>2023_AAAI_DLR-GAE</td>\n",
       "      <td>AAAI 2023</td>\n",
       "      <td>Zhaoliang Chen, Zhihao Wu, Shiping Wang, and W...</td>\n",
       "      <td>DLR-GAE</td>\n",
       "      <td>https://ojs.aaai.org/index.php/AAAI/article/do...</td>\n",
       "      <td>https://github.com/chenzl23/DLRGAE</td>\n",
       "    </tr>\n",
       "    <tr>\n",
       "      <th>5</th>\n",
       "      <td>2022-07-01</td>\n",
       "      <td>2022_TIP_MSA-Net</td>\n",
       "      <td>IEEE Transactions on Multimedia</td>\n",
       "      <td>Linxin Zheng, Guobao Xiao, Ziwei Shi, Shiping ...</td>\n",
       "      <td>MSA-Net</td>\n",
       "      <td>https://guobaoxiao.github.io/papers/TIP2022b(1...</td>\n",
       "      <td>https://github.com/guobaoxiao/MSANet</td>\n",
       "    </tr>\n",
       "    <tr>\n",
       "      <th>6</th>\n",
       "      <td>2022-06-24</td>\n",
       "      <td>2022_TMM_ULTLSE</td>\n",
       "      <td>IEEE Transactions on Multimedia</td>\n",
       "      <td>Lele Fu, Zhaoliang Chen, Yongyong Chen, and Sh...</td>\n",
       "      <td>ULTLSE</td>\n",
       "      <td>https://chenzl23.github.io/assets/pdf/ULTLSE-T...</td>\n",
       "      <td>NaN</td>\n",
       "    </tr>\n",
       "    <tr>\n",
       "      <th>7</th>\n",
       "      <td>2022-03-09</td>\n",
       "      <td>2022_TMM_LMMF</td>\n",
       "      <td>IEEE Transactions on Multimedia</td>\n",
       "      <td>Sheng Huang, Yunhe Zhang, Lele Fu, and Shiping...</td>\n",
       "      <td>LMMF</td>\n",
       "      <td>https://ieeexplore.ieee.org/stamp/stamp.jsp?tp...</td>\n",
       "      <td>NaN</td>\n",
       "    </tr>\n",
       "    <tr>\n",
       "      <th>8</th>\n",
       "      <td>2022-03-01</td>\n",
       "      <td>2022_PR_DCCA</td>\n",
       "      <td>Pattern Recognition</td>\n",
       "      <td>Jinyu Cai, Shiping Wang, Chaoyang Xu, and Wenz...</td>\n",
       "      <td>DCCA</td>\n",
       "      <td>https://www.sciencedirect.com/science/article/...</td>\n",
       "      <td>NaN</td>\n",
       "    </tr>\n",
       "  </tbody>\n",
       "</table>\n",
       "</div>"
      ],
      "text/plain": [
       "     pub_date              title  \\\n",
       "0  2021-05-21    2021_TPAMI_DSRL   \n",
       "1  2023-07-01   2023_INF_LGCN-FF   \n",
       "2  2023-03-23    2023_TMM_IMvGCN   \n",
       "3  2023-01-11    2023_AAAI_tsGCN   \n",
       "4  2023-06-26  2023_AAAI_DLR-GAE   \n",
       "5  2022-07-01   2022_TIP_MSA-Net   \n",
       "6  2022-06-24    2022_TMM_ULTLSE   \n",
       "7  2022-03-09      2022_TMM_LMMF   \n",
       "8  2022-03-01       2022_PR_DCCA   \n",
       "\n",
       "                                               venue  \\\n",
       "0  IEEE Transactions on Pattern Analysis and Mach...   \n",
       "1                                 Information Fusion   \n",
       "2                    IEEE Transactions on Multimedia   \n",
       "3                                          AAAI 2023   \n",
       "4                                          AAAI 2023   \n",
       "5                    IEEE Transactions on Multimedia   \n",
       "6                    IEEE Transactions on Multimedia   \n",
       "7                    IEEE Transactions on Multimedia   \n",
       "8                                Pattern Recognition   \n",
       "\n",
       "                                            citation url_slug  \\\n",
       "0  Shiping Wang, Zhaoliang Chen, Shide Du, and Zh...     DSRL   \n",
       "1  Zhaoliang Chen, Lele Fu, Jie Yao, Wenzhong Guo...  LGCN-FF   \n",
       "2  Zhihao Wu, Xincan Lin, Zhenghong Lin, Zhaolian...   IMvGCN   \n",
       "3  Shiping Wang, Zhihao Wu, Yuhong Chen, and Yong...    tsGCN   \n",
       "4  Zhaoliang Chen, Zhihao Wu, Shiping Wang, and W...  DLR-GAE   \n",
       "5  Linxin Zheng, Guobao Xiao, Ziwei Shi, Shiping ...  MSA-Net   \n",
       "6  Lele Fu, Zhaoliang Chen, Yongyong Chen, and Sh...   ULTLSE   \n",
       "7  Sheng Huang, Yunhe Zhang, Lele Fu, and Shiping...     LMMF   \n",
       "8  Jinyu Cai, Shiping Wang, Chaoyang Xu, and Wenz...     DCCA   \n",
       "\n",
       "                                           paper_url  \\\n",
       "0  https://ieeexplore.ieee.org/stamp/stamp.jsp?tp...   \n",
       "1  https://www.sciencedirect.com/science/article/...   \n",
       "2  https://ieeexplore.ieee.org/stamp/stamp.jsp?tp...   \n",
       "3  https://scholar.google.com/citations?view_op=v...   \n",
       "4  https://ojs.aaai.org/index.php/AAAI/article/do...   \n",
       "5  https://guobaoxiao.github.io/papers/TIP2022b(1...   \n",
       "6  https://chenzl23.github.io/assets/pdf/ULTLSE-T...   \n",
       "7  https://ieeexplore.ieee.org/stamp/stamp.jsp?tp...   \n",
       "8  https://www.sciencedirect.com/science/article/...   \n",
       "\n",
       "                              code_link  \n",
       "0      https://github.com/chenzl23/DSRL  \n",
       "1    https://github.com/chenzl23/LGCNFF  \n",
       "2  https://github.com/ZhihaoWu99/IMvGCN  \n",
       "3   https://github.com/ZhihaoWu99/tsGCN  \n",
       "4    https://github.com/chenzl23/DLRGAE  \n",
       "5  https://github.com/guobaoxiao/MSANet  \n",
       "6                                   NaN  \n",
       "7                                   NaN  \n",
       "8                                   NaN  "
      ]
     },
     "execution_count": 63,
     "metadata": {},
     "output_type": "execute_result"
    }
   ],
   "source": [
    "publications = pd.read_csv(\"publications_v2.tsv\", sep=\"\\t\", header=0)\n",
    "publications\n"
   ]
  },
  {
   "cell_type": "markdown",
   "metadata": {},
   "source": [
    "## Escape special characters\n",
    "\n",
    "YAML is very picky about how it takes a valid string, so we are replacing single and double quotes (and ampersands) with their HTML encoded equivilents. This makes them look not so readable in raw format, but they are parsed and rendered nicely."
   ]
  },
  {
   "cell_type": "code",
   "execution_count": 64,
   "metadata": {
    "collapsed": true,
    "deletable": true,
    "editable": true
   },
   "outputs": [],
   "source": [
    "html_escape_table = {\n",
    "    \"&\": \"&amp;\",\n",
    "    '\"': \"&quot;\",\n",
    "    \"'\": \"&apos;\"\n",
    "    }\n",
    "\n",
    "def html_escape(text):\n",
    "    \"\"\"Produce entities within text.\"\"\"\n",
    "    return \"\".join(html_escape_table.get(c,c) for c in text)"
   ]
  },
  {
   "cell_type": "markdown",
   "metadata": {},
   "source": [
    "## Creating the markdown files\n",
    "\n",
    "This is where the heavy lifting is done. This loops through all the rows in the TSV dataframe, then starts to concatentate a big string (```md```) that contains the markdown for each type. It does the YAML metadata first, then does the description for the individual page."
   ]
  },
  {
   "cell_type": "code",
   "execution_count": 65,
   "metadata": {
    "collapsed": false,
    "deletable": true,
    "editable": true
   },
   "outputs": [],
   "source": [
    "import os\n",
    "for row, item in publications.iterrows():\n",
    "    \n",
    "    md_filename = str(item.pub_date) + \"-\" + item.url_slug + \".md\"\n",
    "    html_filename = str(item.pub_date) + \"-\" + item.url_slug\n",
    "    year = item.pub_date[:4]\n",
    "    \n",
    "    ## YAML variables\n",
    "    \n",
    "    md = \"---\\ntitle: \\\"\"   + item.title + '\"\\n'\n",
    "    \n",
    "    md += \"\"\"collection: publications\"\"\"\n",
    "    \n",
    "    md += \"\"\"\\npermalink: /publication/\"\"\" + html_filename\n",
    "    \n",
    "    # if len(str(item.excerpt)) > 5:\n",
    "    #     md += \"\\nexcerpt: '\" + html_escape(item.excerpt) + \"'\"\n",
    "    \n",
    "    md += \"\\ndate: \" + str(item.pub_date) \n",
    "    \n",
    "    md += \"\\nvenue: '\" + html_escape(item.venue) + \"'\"\n",
    "    \n",
    "    if len(str(item.paper_url)) > 5:\n",
    "        md += \"\\npaperurl: '\" + item.paper_url + \"'\"\n",
    "    \n",
    "    if len(str(item.code_link)) > 5:\n",
    "        md += \"\\ncodelink: '\" + item.code_link + \"'\"\n",
    "\n",
    "    md += \"\\ncitation: '\" + html_escape(item.citation) + \"'\"\n",
    "    \n",
    "    md += \"\\nurlslug: '\" + html_escape(item.url_slug) + \"'\"\n",
    "\n",
    "    md += \"\\n---\"\n",
    "    \n",
    "    ## Markdown description for individual page\n",
    "        \n",
    "    # if len(str(item.excerpt)) > 5:\n",
    "    #     md += \"\\n\" + html_escape(item.excerpt) + \"\\n\"\n",
    "    \n",
    "    # if len(str(item.paper_url)) > 5:\n",
    "    #     md += \"\\n[Download paper here](\" + item.paper_url + \")\\n\" \n",
    "        \n",
    "    md += \"\\nRecommended citation: \" + item.citation\n",
    "    \n",
    "    md_filename = os.path.basename(md_filename)\n",
    "       \n",
    "    with open(\"../_publications/\" + md_filename, 'w') as f:\n",
    "        f.write(md)"
   ]
  },
  {
   "cell_type": "markdown",
   "metadata": {},
   "source": [
    "These files are in the publications directory, one directory below where we're working from."
   ]
  },
  {
   "cell_type": "code",
   "execution_count": 66,
   "metadata": {
    "collapsed": false,
    "deletable": true,
    "editable": true
   },
   "outputs": [
    {
     "name": "stdout",
     "output_type": "stream",
     "text": [
      "2021-05-21-DSRL.md\n",
      "2022-03-01-DCCA.md\n",
      "2022-03-09-LMMF.md\n",
      "2022-06-24-ULTLSE.md\n",
      "2022-07-01-MSA-Net.md\n",
      "2023-01-11-tsGCN.md\n",
      "2023-03-23-IMvGCN.md\n",
      "2023-06-26-DLR-GAE.md\n",
      "2023-07-01-LGCN-FF.md\n"
     ]
    }
   ],
   "source": [
    "!ls ../_publications/"
   ]
  },
  {
   "cell_type": "code",
   "execution_count": 67,
   "metadata": {
    "collapsed": false,
    "deletable": true,
    "editable": true
   },
   "outputs": [
    {
     "name": "stdout",
     "output_type": "stream",
     "text": [
      "---\n",
      "title: \"2021_TPAMI_DSRL\"\n",
      "collection: publications\n",
      "permalink: /publication/2021-05-21-DSRL\n",
      "date: 2021-05-21\n",
      "venue: 'IEEE Transactions on Pattern Analysis and Machine Intelligence'\n",
      "paperurl: 'https://ieeexplore.ieee.org/stamp/stamp.jsp?tp=&arnumber=9439159'\n",
      "codelink: 'https://github.com/chenzl23/DSRL'\n",
      "citation: 'Shiping Wang, Zhaoliang Chen, Shide Du, and Zhouchen Lin. Learning deep sparse regularizers with applications to multi-view clustering and semi-supervised classification[J]. IEEE Transactions on Pattern Analysis and Machine Intelligence, 2021, 44(9): 5042-5055.'\n",
      "urlslug: 'DSRL'\n",
      "---\n",
      "Recommended citation: Shiping Wang, Zhaoliang Chen, Shide Du, and Zhouchen Lin. Learning deep sparse regularizers with applications to multi-view clustering and semi-supervised classification[J]. IEEE Transactions on Pattern Analysis and Machine Intelligence, 2021, 44(9): 5042-5055.\n"
     ]
    }
   ],
   "source": [
    "!cat ../_publications/2021-05-21-DSRL.md"
   ]
  },
  {
   "cell_type": "code",
   "execution_count": null,
   "metadata": {
    "collapsed": true,
    "deletable": true,
    "editable": true
   },
   "outputs": [],
   "source": []
  }
 ],
 "metadata": {
  "kernelspec": {
   "display_name": "Python 3",
   "language": "python",
   "name": "python3"
  },
  "language_info": {
   "codemirror_mode": {
    "name": "ipython",
    "version": 3
   },
   "file_extension": ".py",
   "mimetype": "text/x-python",
   "name": "python",
   "nbconvert_exporter": "python",
   "pygments_lexer": "ipython3",
   "version": "3.8.8"
  }
 },
 "nbformat": 4,
 "nbformat_minor": 0
}
